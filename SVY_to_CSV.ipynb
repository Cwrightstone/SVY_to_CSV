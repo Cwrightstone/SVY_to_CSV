{
 "cells": [
  {
   "cell_type": "code",
   "execution_count": 46,
   "metadata": {},
   "outputs": [],
   "source": [
    "import pandas as pd\n",
    "import re\n",
    "import os\n"
   ]
  },
  {
   "cell_type": "code",
   "execution_count": 57,
   "metadata": {},
   "outputs": [],
   "source": [
    "# FIRST DELETE THE FIRST 35 ROWS IN THE SVY FILE\n",
    "# INPUT YOUR FILE NAME BELOW\n",
    "Input_File = \"20210715_02421400064_R801_MP24.1_SOUTH_CJLW.txt\"\n",
    "\n",
    "with open(Input_File) as f:\n",
    "    df = pd.DataFrame([line.strip().split() for line in f.readlines()])\n",
    "    headers = [f\"Col{i}\" for i in range(1, 36)]#Change this value as needed with Error value\n",
    "    df.to_csv(Input_File + \"PROCESSED.csv\", index=False, header=headers)"
   ]
  }
 ],
 "metadata": {
  "kernelspec": {
   "display_name": "Python 3.10.4 64-bit",
   "language": "python",
   "name": "python3"
  },
  "language_info": {
   "codemirror_mode": {
    "name": "ipython",
    "version": 3
   },
   "file_extension": ".py",
   "mimetype": "text/x-python",
   "name": "python",
   "nbconvert_exporter": "python",
   "pygments_lexer": "ipython3",
   "version": "3.10.4"
  },
  "orig_nbformat": 4,
  "vscode": {
   "interpreter": {
    "hash": "07e2d538e013cc30f9f1c70e7c35ce224c1d998a5eea828d1b89e5dc4b6d0131"
   }
  }
 },
 "nbformat": 4,
 "nbformat_minor": 2
}
